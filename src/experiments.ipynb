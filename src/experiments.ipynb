{
 "cells": [
  {
   "cell_type": "code",
   "execution_count": 1,
   "metadata": {},
   "outputs": [
    {
     "name": "stderr",
     "output_type": "stream",
     "text": [
      "/home/ar/miniconda3/envs/gnn/lib/python3.10/site-packages/tqdm/auto.py:22: TqdmWarning: IProgress not found. Please update jupyter and ipywidgets. See https://ipywidgets.readthedocs.io/en/stable/user_install.html\n",
      "  from .autonotebook import tqdm as notebook_tqdm\n"
     ]
    }
   ],
   "source": [
    "# External dependencies\n",
    "import nevergrad as ng\n",
    "# torch imports\n",
    "import torch\n",
    "import numpy as np\n",
    "import torch_geometric.transforms as T\n",
    "import torch_geometric.data as Data\n",
    "from model import Training\n",
    "from concurrent import futures\n",
    "# Local dependencies\n",
    "from data import WikiSigned, Tribes, Chess, BitcoinA"
   ]
  },
  {
   "attachments": {},
   "cell_type": "markdown",
   "metadata": {},
   "source": [
    "# Parameters"
   ]
  },
  {
   "cell_type": "code",
   "execution_count": 6,
   "metadata": {},
   "outputs": [],
   "source": [
    "# SpringE parameters\n",
    "embedding_dim  = 64\n",
    "time_step = 0.005\n",
    "iterations = 500\n",
    "damping = 0.02\n",
    "\n",
    "# dataset\n",
    "id = 'bitcoin'\n",
    "root = 'src/data'\n",
    "test_size = 0.2"
   ]
  },
  {
   "attachments": {},
   "cell_type": "markdown",
   "metadata": {},
   "source": [
    "# Setup"
   ]
  },
  {
   "cell_type": "code",
   "execution_count": 7,
   "metadata": {},
   "outputs": [],
   "source": [
    "device = torch.device('cuda' if torch.cuda.is_available() else 'cpu')\n",
    "# Define the transforms\n",
    "pre_transforms = []\n",
    "pre_transforms.append(T.ToUndirected())\n",
    "#transform.append(T.ToSparseTensor())\n",
    "pre_transforms = T.Compose(pre_transforms)"
   ]
  },
  {
   "attachments": {},
   "cell_type": "markdown",
   "metadata": {},
   "source": [
    "# Dataset"
   ]
  },
  {
   "cell_type": "code",
   "execution_count": 8,
   "metadata": {},
   "outputs": [
    {
     "name": "stdout",
     "output_type": "stream",
     "text": [
      "Number of edges: 28246\n",
      "Number of nodes: 7605\n",
      "Number of positive edges: 42226\n",
      "Number of negative edges: -13980\n",
      "Ratio of positive edges: 1.4949373006820679\n"
     ]
    },
    {
     "name": "stderr",
     "output_type": "stream",
     "text": [
      "/home/ar/miniconda3/envs/gnn/lib/python3.10/site-packages/torch_geometric/data/storage.py:283: UserWarning: Unable to accurately infer 'num_nodes' from the attribute set '{'edge_attr', 'edge_index'}'. Please explicitly set 'num_nodes' as an attribute of 'data' to suppress this warning\n",
      "  warnings.warn(\n"
     ]
    }
   ],
   "source": [
    "\n",
    "if id == \"wiki\":\n",
    "\n",
    "    dataset = WikiSigned(\n",
    "        root=root,\n",
    "        pre_transform=pre_transforms,\n",
    "        one_hot_signs=False)\n",
    "\n",
    "elif id == \"tribes\":\n",
    "    dataset = Tribes(\n",
    "        root=root,\n",
    "        pre_transform=pre_transforms,\n",
    "        one_hot_signs=False)\n",
    "\n",
    "elif id == \"chess\":\n",
    "    dataset = Chess(\n",
    "        root=root,\n",
    "        pre_transform=pre_transforms,\n",
    "        one_hot_signs=False)\n",
    "\n",
    "elif id == \"bitcoin\":\n",
    "    dataset = BitcoinA(\n",
    "        root=root,\n",
    "        pre_transform=pre_transforms)\n",
    "\n",
    "data = dataset[0]\n",
    "n_edges = data.edge_index.shape[1]\n",
    "\n",
    "print(f\"Number of edges: {n_edges}\")\n",
    "print(f\"Number of nodes: {data.num_nodes}\")\n",
    "print(f\"Number of positive edges: {data.edge_attr.sum()}\")\n",
    "print(f\"Number of negative edges: {n_edges - data.edge_attr.sum()}\")\n",
    "print(f\"Ratio of positive edges: {data.edge_attr.sum() / n_edges}\")\n",
    "\n",
    "# Create train and test datasets\n",
    "train_data = dataset[0].clone()\n",
    "test_data = dataset[0].clone()\n",
    "test_mask =\\\n",
    "    np.random.choice([1, 0], size=n_edges, p=[test_size, 1-test_size])\n",
    "test_mask = torch.tensor(test_mask)\n",
    "\n",
    "train_data.edge_attr = torch.where(test_mask == 1, 0, dataset[0].edge_attr)\n",
    "test_data.edge_attr = torch.where(test_mask == 0, 0, dataset[0].edge_attr)\n",
    "\n"
   ]
  },
  {
   "attachments": {},
   "cell_type": "markdown",
   "metadata": {},
   "source": [
    "# SpringE Embedding"
   ]
  },
  {
   "cell_type": "code",
   "execution_count": 9,
   "metadata": {},
   "outputs": [],
   "source": [
    "\n",
    "training = Training(\n",
    "    device=device,\n",
    "    train_data=train_data,\n",
    "    test_data=test_data,\n",
    "    test_mask=test_mask,\n",
    "    embedding_dim=embedding_dim,\n",
    "    time_step=time_step,\n",
    "    iterations=iterations,\n",
    "    damping=damping)\n",
    "\n",
    "parametrization = ng.p.Instrumentation(\n",
    "    friend_distance=ng.p.Scalar(lower=0.1, upper=15.0),\n",
    "    friend_stiffness=ng.p.Scalar(lower=0.1, upper=8.0),\n",
    "    neutral_distance=ng.p.Scalar(lower=0.1, upper=15.0),\n",
    "    neutral_stiffness=ng.p.Scalar(lower=0.1, upper=8.0),\n",
    "    enemy_distance=ng.p.Scalar(lower=0.1, upper=15.0),\n",
    "    enemy_stiffness=ng.p.Scalar(lower=0.1, upper=8.0),\n",
    ")\n",
    "\n",
    "optimizer = ng.optimizers.NGOpt(parametrization=parametrization, budget=100, num_workers=1)\n",
    "\n",
    "recommendation = optimizer.minimize(training)\n",
    "\n",
    "print(recommendation.value)"
   ]
  },
  {
   "cell_type": "code",
   "execution_count": null,
   "metadata": {},
   "outputs": [],
   "source": []
  }
 ],
 "metadata": {
  "kernelspec": {
   "display_name": "gnn",
   "language": "python",
   "name": "python3"
  },
  "language_info": {
   "codemirror_mode": {
    "name": "ipython",
    "version": 3
   },
   "file_extension": ".py",
   "mimetype": "text/x-python",
   "name": "python",
   "nbconvert_exporter": "python",
   "pygments_lexer": "ipython3",
   "version": "3.10.8 (main, Nov 24 2022, 14:13:03) [GCC 11.2.0]"
  },
  "orig_nbformat": 4,
  "vscode": {
   "interpreter": {
    "hash": "ad5b068228aafd9246e865d527f064d66606a5ac80a9277750b35920d27d5e08"
   }
  }
 },
 "nbformat": 4,
 "nbformat_minor": 2
}
